{
 "cells": [
  {
   "cell_type": "code",
   "execution_count": 9,
   "metadata": {},
   "outputs": [],
   "source": [
    "# Library\n",
    "import nltk\n",
    "import random\n",
    "import re\n",
    "import csv\n",
    "import gensim\n",
    "import warnings \n",
    "import urllib.request\n",
    "import numpy as np\n",
    "import pandas as pd\n",
    "import matplotlib.pyplot as plt\n",
    "from nltk.corpus import stopwords\n",
    "from collections import Counter\n",
    "from nltk.tokenize import word_tokenize\n",
    "from nltk.stem import PorterStemmer, WordNetLemmatizer\n",
    "from sklearn.feature_extraction.text import CountVectorizer, TfidfVectorizer\n",
    "from sklearn import feature_extraction, manifold\n",
    "from sklearn.decomposition import LatentDirichletAllocation\n",
    "from gensim.models import Word2Vec\n",
    "from sklearn.metrics import cohen_kappa_score, silhouette_score\n",
    "from sklearn.cluster import KMeans\n",
    "from sklearn.mixture import GaussianMixture\n",
    "from sklearn.cluster import AgglomerativeClustering\n",
    "\n",
    "warnings.filterwarnings('ignore') # to ignore deprecated functions\n"
   ]
  },
  {
   "cell_type": "code",
   "execution_count": 10,
   "metadata": {},
   "outputs": [
    {
     "name": "stderr",
     "output_type": "stream",
     "text": [
      "[nltk_data] Downloading package stopwords to\n",
      "[nltk_data]     /Users/yuting/nltk_data...\n",
      "[nltk_data]   Package stopwords is already up-to-date!\n",
      "[nltk_data] Downloading package wordnet to /Users/yuting/nltk_data...\n",
      "[nltk_data]   Package wordnet is already up-to-date!\n",
      "[nltk_data] Downloading package punkt to /Users/yuting/nltk_data...\n",
      "[nltk_data]   Package punkt is already up-to-date!\n"
     ]
    },
    {
     "data": {
      "text/plain": [
       "True"
      ]
     },
     "execution_count": 10,
     "metadata": {},
     "output_type": "execute_result"
    }
   ],
   "source": [
    "# Download NLTK data\n",
    "nltk.download('stopwords')\n",
    "nltk.download('wordnet')\n",
    "nltk.download('punkt')"
   ]
  },
  {
   "attachments": {},
   "cell_type": "markdown",
   "metadata": {},
   "source": [
    "# Data Selection\n",
    "Take five different samples of Gutenberg digital books, which are all of five different genres and of five different authors, that are semantically different.\n",
    "\n",
    "So we choice:\n",
    "- Peter Pan by J. M. Barrie, and genre: Children's Literature. Semantic category: Fantasy, Adventure.\n",
    "- The Origin of Species by Charles Darwin, and genre: Science. Semantic category: Evolution, Biology, Genetics.\n",
    "- War and Peace by Leo Tolstoy, and genre: Historical Fiction. Semantic category: War, Society, History.\n",
    "- Pride and Prejudice by Jane Austen, and genre: Romance Fiction. Semantic category: Romance, Social class, Society.\n",
    "- The Adventures of Sherlock Holmes by Arthur Conan Doyle, and genre: Mystery. Semantic category: Detective, Crime, Logic, Deduction, Suspense."
   ]
  },
  {
   "cell_type": "code",
   "execution_count": 11,
   "metadata": {},
   "outputs": [
    {
     "name": "stdout",
     "output_type": "stream",
     "text": [
      "Peter_Pan.txt by J. M. Barrie has been saved.\n",
      "On_the_Origin_of_Species.txt by Charles Darwin has been saved.\n",
      "War_and_Peace.txt by Leo Tolstoy has been saved.\n",
      "Pride_and_Prejudice.txt by Jane Austen has been saved.\n",
      "The_Adventures_of_Sherlock_Holmes.txt by Arthur Conan Doyle has been saved.\n"
     ]
    }
   ],
   "source": [
    "# Define the URL and filenames for each book\n",
    "books = [ \n",
    "         {\"url\": \"https://www.gutenberg.org/files/16/16-0.txt\", \"filename\": \"Peter_Pan.txt\", \"author\": \"J. M. Barrie\", \"genre\": \"Children's Literature\"},\n",
    "         {\"url\": \"https://www.gutenberg.org/cache/epub/1228/pg1228.txt\", \"filename\": \"On_the_Origin_of_Species.txt\", \"author\": \"Charles Darwin\", \"genre\": \"Science\"},\n",
    "         {\"url\": \"https://www.gutenberg.org/cache/epub/2600/pg2600.txt\", \"filename\": \"War_and_Peace.txt\", \"author\": \"Leo Tolstoy\", \"genre\": \"Historical Fiction\"},\n",
    "         {\"url\": \"https://www.gutenberg.org/cache/epub/1342/pg1342.txt\", \"filename\": \"Pride_and_Prejudice.txt\", \"author\": \"Jane Austen\", \"genre\": \"Romance Fiction\"},\n",
    "         {\"url\": \"https://www.gutenberg.org/files/1661/1661-0.txt\", \"filename\": \"The_Adventures_of_Sherlock_Holmes.txt\", \"author\": \"Arthur Conan Doyle\", \"genre\": \"Mystery\"},\n",
    "]\n",
    "\n",
    "\n",
    "# Download and save each book\n",
    "for book in books:\n",
    "    url = book[\"url\"]\n",
    "    filename = book[\"filename\"]\n",
    "    author = book[\"author\"]\n",
    "    genre = book[\"genre\"]\n",
    "    urllib.request.urlretrieve(url, filename)\n",
    "    print(f\"{filename} by {author} has been saved.\")"
   ]
  },
  {
   "attachments": {},
   "cell_type": "markdown",
   "metadata": {},
   "source": [
    "# Data Prepare and Preprocess"
   ]
  },
  {
   "cell_type": "code",
   "execution_count": 12,
   "metadata": {},
   "outputs": [],
   "source": [
    "def sample_digital_book(book_name, num_partitions, size_partition):\n",
    "    \n",
    "    # Download the digital book from the local directory\n",
    "    book_file = open(book_name, \"r\", encoding='utf-8')\n",
    "    book = book_file.read()\n",
    "    book_file.close()\n",
    "\n",
    "    # use 'word_tokenize' function to tokenize the book into words.\n",
    "    partitions = nltk.word_tokenize(book)\n",
    "    partitions = [partitions[i : i+size_partition] for i in range(0, len(partitions), size_partition)]\n",
    "    \n",
    "    # Check num_partitions is valid\n",
    "    if num_partitions > len(partitions) or num_partitions < 0:\n",
    "        num_partitions = len(partitions)\n",
    "    partitions = partitions[:num_partitions]\n",
    "    \n",
    "    # Create labels\n",
    "    labels = [book_name[:1]]\n",
    "    # Repeat the labels for the number of times that can fit in the partitions\n",
    "    label_list = labels*(num_partitions//len(labels))\n",
    "    # Get the remainder labels that are needed.\n",
    "    label_list += labels[:num_partitions%len(labels)]\n",
    "    \n",
    "    # Use regular expression to manipulate the text\n",
    "    # and the regular expression r'[^\\w\\s]' is used to remove non-alphanumeric characters from the text.\n",
    "    partitions = [[re.sub(r'[^\\w\\s]', '', word) for word in partition] for partition in partitions]\n",
    "    \n",
    "    # Remove empty strings from the list\n",
    "    partitions = [[word for word in partition if word] for partition in partitions]\n",
    "\n",
    "    # Remove stop words\n",
    "    stop_words = set(stopwords.words('english'))\n",
    "    partitions = [[word for word in partition if word.lower() not in stop_words] for partition in partitions]\n",
    "\n",
    "    # Stemming\n",
    "    stemmer = PorterStemmer()\n",
    "    partitions = [[stemmer.stem(word) for word in partition] for partition in partitions]\n",
    "\n",
    "    # Lemmatization\n",
    "    lemmatizer = WordNetLemmatizer()\n",
    "    partitions = [[lemmatizer.lemmatize(word) for word in partition] for partition in partitions]\n",
    "\n",
    "    # Create pandas dataframe to store the text data\n",
    "    data = {'partition': partitions, 'label': label_list}\n",
    "    df = pd.DataFrame(data) \n",
    "    \n",
    "    return partitions"
   ]
  },
  {
   "cell_type": "code",
   "execution_count": 13,
   "metadata": {},
   "outputs": [],
   "source": [
    "# Testing for multiple books:\n",
    "book_name1 = \"Peter_Pan.txt\"\n",
    "book_name2 = \"On_the_Origin_of_Species.txt\"\n",
    "book_name3 = \"War_and_Peace.txt\"\n",
    "book_name4 = \"Pride_and_Prejudice.txt\"\n",
    "book_name5 = \"The_Adventures_of_Sherlock_Holmes.txt\"\n",
    "book_list = [book_name1, book_name2, book_name3, book_name4, book_name5]\n",
    "# If book_list > label_list, add \"f\",\"g\",etc.\n",
    "label_list = [\"a\",\"b\",\"c\",\"d\",\"e\"]\n",
    "df_list = []\n",
    "\n",
    "# samples 200 documents of each book, with 150 words records for each document. \n",
    "for i, book_name in enumerate(book_list):\n",
    "    partitions = sample_digital_book(book_name, 200, 150)\n",
    "    temp = pd.DataFrame({'partition': partitions, 'label': label_list[i]})\n",
    "    df_list.append(temp)\n",
    "\n",
    "df = pd.concat(df_list)\n",
    "df.to_csv(\"books_data.csv\", index=False)"
   ]
  },
  {
   "attachments": {},
   "cell_type": "markdown",
   "metadata": {},
   "source": [
    "# Transform"
   ]
  },
  {
   "cell_type": "code",
   "execution_count": null,
   "metadata": {},
   "outputs": [
    {
     "name": "stdout",
     "output_type": "stream",
     "text": [
      "Here is the BOW result:      07  10  108  10annett  11  112  113  118  12  1228  ...  youngster  \\\n",
      "0     0   0    0         0   0    0    0    0   0     0  ...          0   \n",
      "1     0   0    0         0   0    0    0    0   0     0  ...          0   \n",
      "2     0   0    0         0   0    0    0    0   0     0  ...          0   \n",
      "3     0   0    0         0   0    0    0    0   0     0  ...          0   \n",
      "4     0   0    0         0   0    0    0    0   0     0  ...          0   \n",
      "..   ..  ..  ...       ...  ..  ...  ...  ...  ..   ...  ...        ...   \n",
      "995   0   0    0         0   0    0    0    0   0     0  ...          0   \n",
      "996   0   0    0         0   0    0    0    0   0     0  ...          0   \n",
      "997   0   0    0         0   0    0    0    0   0     0  ...          0   \n",
      "998   0   0    0         0   0    0    0    0   0     0  ...          0   \n",
      "999   0   0    0         0   0    0    0    0   0     0  ...          0   \n",
      "\n",
      "     your_  yousit  youth  zealand  zigzag  zoologist  çela  émigré  œuvr  \n",
      "0        0       0      0        0       0          0     0       0     0  \n",
      "1        0       0      0        0       0          0     0       0     0  \n",
      "2        0       0      0        0       0          0     0       0     0  \n",
      "3        0       0      0        0       0          0     0       0     0  \n",
      "4        0       0      0        0       0          0     0       0     0  \n",
      "..     ...     ...    ...      ...     ...        ...   ...     ...   ...  \n",
      "995      0       0      0        0       0          0     0       0     0  \n",
      "996      0       0      0        0       0          0     0       0     0  \n",
      "997      0       0      0        0       0          0     0       0     0  \n",
      "998      0       0      0        0       0          0     0       0     0  \n",
      "999      0       0      0        0       0          0     0       0     0  \n",
      "\n",
      "[1000 rows x 7057 columns]\n",
      "Here is the TF-IDF result:       07   10  108  10annett   11  112  113  118   12  1228  ...  youngster  \\\n",
      "0    0.0  0.0  0.0       0.0  0.0  0.0  0.0  0.0  0.0   0.0  ...        0.0   \n",
      "1    0.0  0.0  0.0       0.0  0.0  0.0  0.0  0.0  0.0   0.0  ...        0.0   \n",
      "2    0.0  0.0  0.0       0.0  0.0  0.0  0.0  0.0  0.0   0.0  ...        0.0   \n",
      "3    0.0  0.0  0.0       0.0  0.0  0.0  0.0  0.0  0.0   0.0  ...        0.0   \n",
      "4    0.0  0.0  0.0       0.0  0.0  0.0  0.0  0.0  0.0   0.0  ...        0.0   \n",
      "..   ...  ...  ...       ...  ...  ...  ...  ...  ...   ...  ...        ...   \n",
      "995  0.0  0.0  0.0       0.0  0.0  0.0  0.0  0.0  0.0   0.0  ...        0.0   \n",
      "996  0.0  0.0  0.0       0.0  0.0  0.0  0.0  0.0  0.0   0.0  ...        0.0   \n",
      "997  0.0  0.0  0.0       0.0  0.0  0.0  0.0  0.0  0.0   0.0  ...        0.0   \n",
      "998  0.0  0.0  0.0       0.0  0.0  0.0  0.0  0.0  0.0   0.0  ...        0.0   \n",
      "999  0.0  0.0  0.0       0.0  0.0  0.0  0.0  0.0  0.0   0.0  ...        0.0   \n",
      "\n",
      "     your_  yousit  youth  zealand  zigzag  zoologist  çela  émigré  œuvr  \n",
      "0      0.0     0.0    0.0      0.0     0.0        0.0   0.0     0.0   0.0  \n",
      "1      0.0     0.0    0.0      0.0     0.0        0.0   0.0     0.0   0.0  \n",
      "2      0.0     0.0    0.0      0.0     0.0        0.0   0.0     0.0   0.0  \n",
      "3      0.0     0.0    0.0      0.0     0.0        0.0   0.0     0.0   0.0  \n",
      "4      0.0     0.0    0.0      0.0     0.0        0.0   0.0     0.0   0.0  \n",
      "..     ...     ...    ...      ...     ...        ...   ...     ...   ...  \n",
      "995    0.0     0.0    0.0      0.0     0.0        0.0   0.0     0.0   0.0  \n",
      "996    0.0     0.0    0.0      0.0     0.0        0.0   0.0     0.0   0.0  \n",
      "997    0.0     0.0    0.0      0.0     0.0        0.0   0.0     0.0   0.0  \n",
      "998    0.0     0.0    0.0      0.0     0.0        0.0   0.0     0.0   0.0  \n",
      "999    0.0     0.0    0.0      0.0     0.0        0.0   0.0     0.0   0.0  \n",
      "\n",
      "[1000 rows x 7057 columns]\n",
      "Here is the LDA result:       topic_0   topic_1   topic_2   topic_3   topic_4   topic_5   topic_6  \\\n",
      "0    0.001389  0.987499  0.001389  0.001389  0.001389  0.001389  0.001389   \n",
      "1    0.443627  0.178625  0.001205  0.001205  0.001205  0.001205  0.369313   \n",
      "2    0.462137  0.001493  0.001493  0.001493  0.001493  0.030189  0.245918   \n",
      "3    0.001515  0.001515  0.001515  0.001516  0.001515  0.001515  0.286110   \n",
      "4    0.001667  0.001667  0.001667  0.001667  0.001667  0.077478  0.001667   \n",
      "..        ...       ...       ...       ...       ...       ...       ...   \n",
      "995  0.001852  0.001852  0.001852  0.001852  0.001852  0.001852  0.442906   \n",
      "996  0.001695  0.001695  0.001695  0.338994  0.001695  0.001695  0.001695   \n",
      "997  0.001755  0.001755  0.001755  0.913188  0.001755  0.001755  0.001755   \n",
      "998  0.001786  0.001786  0.001786  0.001786  0.001786  0.001786  0.001786   \n",
      "999  0.985935  0.001563  0.001563  0.001563  0.001563  0.001563  0.001563   \n",
      "\n",
      "      topic_7   topic_8   topic_9  \n",
      "0    0.001389  0.001389  0.001389  \n",
      "1    0.001205  0.001205  0.001205  \n",
      "2    0.252800  0.001493  0.001493  \n",
      "3    0.701767  0.001515  0.001515  \n",
      "4    0.909187  0.001667  0.001667  \n",
      "..        ...       ...       ...  \n",
      "995  0.542276  0.001852  0.001852  \n",
      "996  0.647444  0.001695  0.001695  \n",
      "997  0.072773  0.001755  0.001755  \n",
      "998  0.716305  0.269406  0.001786  \n",
      "999  0.001563  0.001563  0.001563  \n",
      "\n",
      "[1000 rows x 10 columns]\n"
     ]
    }
   ],
   "source": [
    "# Load the data from the csv file\n",
    "df = pd.read_csv(\"books_data.csv\")\n",
    "\n",
    "sw_nltk = stopwords.words('english')\n",
    "\n",
    "# Convert Bag-of-Words representation using CountVectorizer\n",
    "count_vectorizer = CountVectorizer(stop_words=sw_nltk)\n",
    "count_matrix = count_vectorizer.fit_transform(df['partition'].to_list())\n",
    "\n",
    "# Convert TF-IDF representation using TfidfVectorizer\n",
    "tfidf_vectorizer = TfidfVectorizer(stop_words=sw_nltk)\n",
    "tfidf_matrix = tfidf_vectorizer.fit_transform(df['partition'].to_list())\n",
    "\n",
    "# Perform LDA\n",
    "lda_model = LatentDirichletAllocation(n_components=10)\n",
    "lda_matrix = lda_model.fit_transform(count_matrix)\n",
    "\n",
    "# Word Embeddings\n",
    "\n",
    "\n",
    "# Get the feature names\n",
    "feature_names_bow = count_vectorizer.get_feature_names()\n",
    "feature_names_tfidf = tfidf_vectorizer.get_feature_names()\n",
    "feature_names_lda = [f\"topic_{i}\" for i in range(lda_model.n_components)]\n",
    "\n",
    "# Store the BOW and TF-IDF representations as separate dataframes\n",
    "df_bow = pd.DataFrame(count_matrix.toarray(), columns=feature_names_bow)\n",
    "print(\"Here is the BOW result:\",df_bow)\n",
    "df_tfidf = pd.DataFrame(tfidf_matrix.toarray(), columns=feature_names_tfidf)\n",
    "print(\"Here is the TF-IDF result:\",df_tfidf)\n",
    "df_lda=pd.DataFrame(lda_matrix, columns=feature_names_lda)\n",
    "print(\"Here is the LDA result:\", df_lda)\n"
   ]
  },
  {
   "attachments": {},
   "cell_type": "markdown",
   "metadata": {},
   "source": [
    "# Visualization"
   ]
  },
  {
   "cell_type": "code",
   "execution_count": null,
   "metadata": {},
   "outputs": [
    {
     "data": {
      "image/png": "[encoded data removed]",
      "text/plain": [
       "<Figure size 1000x500 with 1 Axes>"
      ]
     },
     "metadata": {},
     "output_type": "display_data"
    }
   ],
   "source": [
    "# Get word frequency counts from the CountVectorizer object\n",
    "word_freq = count_matrix.toarray().sum(axis=0)\n",
    "\n",
    "# Create a dataframe of words and their frequency\n",
    "word_df = pd.DataFrame({'word': feature_names_bow, 'freq': word_freq})\n",
    "word_df.sort_values('freq', ascending=False, inplace=True)\n",
    "\n",
    "# Plot the top n words\n",
    "n = 10\n",
    "word_df[:n].plot.bar(x='word', y='freq', legend=False, figsize=(10,5))\n",
    "plt.title('Top {} Words by Frequency'.format(n))\n",
    "plt.show()"
   ]
  },
  {
   "cell_type": "code",
   "execution_count": null,
   "metadata": {},
   "outputs": [
    {
     "name": "stdout",
     "output_type": "stream",
     "text": [
      "1    578\n",
      "4    210\n",
      "0    160\n",
      "3     46\n",
      "2      6\n",
      "Name: cluster, dtype: int64\n"
     ]
    }
   ],
   "source": [
    "# Perform K-means clustering\n",
    "kmeans = KMeans(n_clusters=5, random_state=2023)\n",
    "# based on BOW\n",
    "kmeans.fit(df_bow)\n",
    "\n",
    "# get the cluster labels and add to the data frame\n",
    "df_bow['cluster'] = kmeans.labels_\n",
    "\n",
    "# print the cluster counts\n",
    "print(df_bow['cluster'].value_counts())\n",
    "\n",
    "# 随便改吧，不合适删了就行"
   ]
  }
 ],
 "metadata": {
  "kernelspec": {
   "display_name": "base",
   "language": "python",
   "name": "python3"
  },
  "language_info": {
   "codemirror_mode": {
    "name": "ipython",
    "version": 3
   },
   "file_extension": ".py",
   "mimetype": "text/x-python",
   "name": "python",
   "nbconvert_exporter": "python",
   "pygments_lexer": "ipython3",
   "version": "3.9.13"
  },
  "orig_nbformat": 4,
  "vscode": {
   "interpreter": {
    "hash": "40d3a090f54c6569ab1632332b64b2c03c39dcf918b08424e98f38b5ae0af88f"
   }
  }
 },
 "nbformat": 4,
 "nbformat_minor": 2
}
